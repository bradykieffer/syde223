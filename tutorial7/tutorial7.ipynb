{
 "cells": [
  {
   "cell_type": "markdown",
   "metadata": {},
   "source": [
    "# Tutorial 7: Binary Trees\n",
    "------------------------------------------------\n",
    "Brady Kieffer - <bwkieffe@edu.uwaterloo.ca>\n",
    "\n",
    "All of the tutorial related code / other documents will be on d2l as well as [this](https://github.com/bradykieffer/syde223) git repo.\n",
    "\n",
    "I like using Jupyter notebooks as a way to try out code. If you want to learn more about installing Jupyter on your own machine just go [here](http://jupyter.org/).\n",
    "\n",
    "## Introduction\n",
    "-------------------\n",
    "\n",
    "![TREES](https://imgs.xkcd.com/comics/tree.png)\n",
    "\n",
    "- Not just invented to make undergraduates hate computers\n",
    "- Used in a few of your later courses (SYDE 522 and SYDE 575)\n",
    "\n",
    "We're going to look at implementing a Binary Search Tree (BST) using Python, a use case for binary trees (in machine learning) and then a quick Kahoot quiz.\n",
    "\n",
    "#### Note\n",
    "\n",
    "If you want to go into pretty much anything involving computers knowing how to implement a tree is a good idea. **But**, if you ever want to use these datastructures **please** check if it has already been implemented. For example, you never need to implement a `deque` in Python because they are already part of the `collections` module ([here's](https://docs.python.org/3/library/collections.html) a link). Google is your best friend when looking if someone else has already implemented something you want to use.\n",
    "\n",
    "Let's go over the implementation of a Binary Search Tree first."
   ]
  },
  {
   "cell_type": "code",
   "execution_count": 1,
   "metadata": {},
   "outputs": [],
   "source": [
    "import matplotlib.pyplot as plt\n",
    "import seaborn as sns\n",
    "\n",
    "sns.set()\n",
    "\n",
    "%matplotlib inline"
   ]
  },
  {
   "cell_type": "markdown",
   "metadata": {},
   "source": [
    "### Let's start by defining a Skeleton of the final class\n",
    "\n",
    "Full disclosure, I 100% have an implemented trees in `tree.py` in case things go south."
   ]
  },
  {
   "cell_type": "code",
   "execution_count": 2,
   "metadata": {},
   "outputs": [],
   "source": [
    "class BinarySearchTree(object):\n",
    "    \"\"\" Store values within a binary tree structure for later lookup. \"\"\"\n",
    "    def __init__(self):\n",
    "        self.root = None\n",
    "        self._size = 0  # Do not want to directly modify this\n",
    "\n",
    "    @property\n",
    "    def length(self):\n",
    "        return self._size\n",
    "\n",
    "    def __len__(self):\n",
    "        return self._size"
   ]
  },
  {
   "cell_type": "markdown",
   "metadata": {},
   "source": [
    "This is a pretty simple structure initially, if we create it we can see that it indeed contains no nodes and has zero length"
   ]
  },
  {
   "cell_type": "code",
   "execution_count": 3,
   "metadata": {},
   "outputs": [
    {
     "name": "stdout",
     "output_type": "stream",
     "text": [
      "Length of tree is 0 do the properties work? True\n"
     ]
    }
   ],
   "source": [
    "tree = BinarySearchTree()\n",
    "print('Length of tree is', len(tree), 'do the properties work?', len(tree) == tree.length)"
   ]
  },
  {
   "cell_type": "markdown",
   "metadata": {},
   "source": [
    "### Before doing anything with the tree we need a Node class\n",
    "\n",
    "This will allow us to link nodes together starting from the root. The tree only needs to keep track of it's own root at any given moment and nodes will do the rest. For a binary search tree there are five things each node should keep track of:\n",
    "\n",
    "1. A key\n",
    "2. A value to associate with the key\n",
    "3. A pointer to a left child node\n",
    "4. A pointer to a right child node\n",
    "5. A point to the parent of the node\n",
    "\n",
    "They don't need to actually have all of these variables given when created."
   ]
  },
  {
   "cell_type": "code",
   "execution_count": 4,
   "metadata": {},
   "outputs": [],
   "source": [
    "class Node(object):\n",
    "    \"\"\" A node within a binary tree. \"\"\"\n",
    "    def __init__(self, key, val, left=None, right=None, parent=None):\n",
    "        self.key = key\n",
    "        self.value = val\n",
    "        self.left_child = left\n",
    "        self.right_child = right\n",
    "        self.parent = parent\n",
    "\n",
    "    def __repr__(self):\n",
    "        return f'<Node: [{self.key}: {self.value}]>'\n",
    "\n",
    "    def has_both_children(self):\n",
    "        return self.left_child is not None and self.right_child is not None\n",
    "\n",
    "    def has_children(self):\n",
    "        return not self.is_leaf\n",
    "\n",
    "    def has_left_child(self):\n",
    "        return self.left_child is not None\n",
    "\n",
    "    def has_right_child(self):\n",
    "        return self.right_child is not None\n",
    "\n",
    "    def is_left_child(self):\n",
    "        return self.parent and self.parent.left_child == self\n",
    "\n",
    "    def is_right_child(self):\n",
    "        return self.parent and self.parent.right_child == self\n",
    "\n",
    "    def is_root(self):\n",
    "        # What makes a node a root node?\n",
    "        return self.parent is None\n",
    "    \n",
    "    def is_leaf(self):\n",
    "        # What makes a node a leaf?\n",
    "        return self.left_child is None and self.right_child is None"
   ]
  },
  {
   "cell_type": "code",
   "execution_count": 5,
   "metadata": {},
   "outputs": [],
   "source": [
    "# Let's look at our new Node class\n",
    "node = Node(0, 'I\\'m a node!!!')"
   ]
  },
  {
   "cell_type": "code",
   "execution_count": 6,
   "metadata": {},
   "outputs": [
    {
     "name": "stdout",
     "output_type": "stream",
     "text": [
      "Key: 0 \tValue: I'm a node!!!\n"
     ]
    }
   ],
   "source": [
    "print('Key:', node.key, '\\tValue:', node.value)"
   ]
  },
  {
   "cell_type": "code",
   "execution_count": 7,
   "metadata": {},
   "outputs": [
    {
     "name": "stdout",
     "output_type": "stream",
     "text": [
      "Key: I'm a node!!! \tValue: 0\n"
     ]
    }
   ],
   "source": [
    "# We could put in anything as a key or value really\n",
    "node = Node(node.value, node.key)\n",
    "print('Key:', node.key, '\\tValue:', node.value)"
   ]
  },
  {
   "cell_type": "code",
   "execution_count": 8,
   "metadata": {},
   "outputs": [
    {
     "name": "stdout",
     "output_type": "stream",
     "text": [
      "Am I a root? True \n",
      "Am I a leaf? True\n"
     ]
    }
   ],
   "source": [
    "print('Am I a root?', node.is_root(), '\\nAm I a leaf?', node.is_leaf())"
   ]
  },
  {
   "cell_type": "markdown",
   "metadata": {},
   "source": [
    "With the above implementation, we can actually start to create the binary search tree class. We should start by defining an insertion method which will put a `Node` object into the tree."
   ]
  },
  {
   "cell_type": "code",
   "execution_count": 9,
   "metadata": {},
   "outputs": [],
   "source": [
    "class BinarySearchTree(object):\n",
    "    \"\"\" Store values within a binary tree structure for later lookup. \"\"\"\n",
    "    def __init__(self):\n",
    "        self.root = None\n",
    "        self._size = 0  # Do not want to directly modify this\n",
    "\n",
    "    @property\n",
    "    def length(self):\n",
    "        return self._size\n",
    "\n",
    "    def __len__(self):\n",
    "        return self._size\n",
    "    \n",
    "    def insert(self, key, value):\n",
    "        if self.root is None:\n",
    "            # Create a root\n",
    "            self.root = Node(key, value)\n",
    "            \n",
    "        else:\n",
    "            # Need to recursively call an insert function here\n",
    "            self._insert(key, value, current_node=self.root)\n",
    "        self._size += 1\n",
    "        \n",
    "    def _insert(self, key, value, current_node):\n",
    "        if key < current_node.key:\n",
    "            # Key is less than the current nodes key, it should go left\n",
    "            if not current_node.has_left_child():\n",
    "                current_node.left_child = Node(key, value, parent=current_node)\n",
    "            else:\n",
    "                self._insert(key, value, current_node=current_node.left_child)\n",
    "        else:\n",
    "            # Key is greater than the current_nodes key\n",
    "            # What do we do here?\n",
    "            if not current_node.has_right_child():\n",
    "                current_node.right_child = Node(key, value, parent=current_node)\n",
    "            else:\n",
    "                self._insert(key, value, current_node=current_node.right_child)"
   ]
  },
  {
   "cell_type": "code",
   "execution_count": 10,
   "metadata": {},
   "outputs": [],
   "source": [
    "# Let's test out this new functionality\n",
    "tree = BinarySearchTree()"
   ]
  },
  {
   "cell_type": "code",
   "execution_count": 11,
   "metadata": {},
   "outputs": [],
   "source": [
    "tree.insert(0, 1)\n",
    "tree.insert(-1, 2)\n",
    "tree.insert(2, 'Binary Trees are so fun....')"
   ]
  },
  {
   "cell_type": "code",
   "execution_count": 12,
   "metadata": {},
   "outputs": [
    {
     "name": "stdout",
     "output_type": "stream",
     "text": [
      "<Node: [0: 1]> Binary Trees are so fun.... None\n"
     ]
    }
   ],
   "source": [
    "print(tree.root, tree.root.right_child.value, tree.root.right_child.right_child)"
   ]
  },
  {
   "cell_type": "markdown",
   "metadata": {},
   "source": [
    "### Searching for values AKA the entire point of these things\n",
    "Now that we can insert values it would be great if we could actually find them in the tree, let's do that "
   ]
  },
  {
   "cell_type": "code",
   "execution_count": 13,
   "metadata": {},
   "outputs": [],
   "source": [
    "class BinarySearchTree(object):\n",
    "    \"\"\" Store values within a binary tree structure for later lookup. \"\"\"\n",
    "    def __init__(self):\n",
    "        self.root = None\n",
    "        self._size = 0  # Do not want to directly modify this\n",
    "\n",
    "    @property\n",
    "    def length(self):\n",
    "        return self._size\n",
    "\n",
    "    def __len__(self):\n",
    "        return self._size\n",
    "    \n",
    "    def insert(self, key, value):\n",
    "        if self.root is None:\n",
    "            # Create a root\n",
    "            self.root = Node(key, value)\n",
    "            \n",
    "        else:\n",
    "            # Need to recursively call an insert function here\n",
    "            self._insert(key, value, current_node=self.root)\n",
    "        self._size += 1\n",
    "        \n",
    "    def _insert(self, key, value, current_node):\n",
    "        if key < current_node.key:\n",
    "            # Key is less than the current nodes key, it should go left\n",
    "            if not current_node.has_left_child():\n",
    "                current_node.left_child = Node(key, value, parent=current_node)\n",
    "            else:\n",
    "                self._insert(key, value, current_node=current_node.left_child)\n",
    "        else:\n",
    "            # Key is greater than the current_nodes key\n",
    "            if not current_node.has_right_child():\n",
    "                current_node.right_child = Node(key, value, parent=current_node)\n",
    "            else:\n",
    "                self._insert(key, value, current_node=current_node.right_child)\n",
    "\n",
    "    def get(self, key):\n",
    "        \"\"\" Take a key and find it in our tree. \"\"\"\n",
    "        if self.root is None:\n",
    "            return None\n",
    "        else:\n",
    "            result = self._get(key, current_node=self.root)\n",
    "            if result is None:\n",
    "                return None\n",
    "            else:\n",
    "                return result.value\n",
    "            \n",
    "    def _get(self, key, current_node):\n",
    "        # What do we do if current node is None? What does that mean?\n",
    "        if current_node is None:\n",
    "            # What do we do here?\n",
    "            return None\n",
    "        elif current_node.key == key:\n",
    "            # We found it!\n",
    "            return current_node\n",
    "        # How do we traverse the tree?\n",
    "        else:\n",
    "            if key < current_node.key:\n",
    "                return self._get(key, current_node=current_node.left_child)\n",
    "            else:\n",
    "                return self._get(key, current_node=current_node.right_child)"
   ]
  },
  {
   "cell_type": "code",
   "execution_count": 14,
   "metadata": {},
   "outputs": [],
   "source": [
    "tree = BinarySearchTree()"
   ]
  },
  {
   "cell_type": "code",
   "execution_count": 15,
   "metadata": {},
   "outputs": [],
   "source": [
    "tree.insert('b', 1)\n",
    "tree.insert('a', 2)\n",
    "tree.insert('c', 'Binary Trees are so fun....')"
   ]
  },
  {
   "cell_type": "code",
   "execution_count": 16,
   "metadata": {},
   "outputs": [
    {
     "name": "stdout",
     "output_type": "stream",
     "text": [
      "Let's get all the values we just inserted 2 1 Binary Trees are so fun....\n"
     ]
    }
   ],
   "source": [
    "print('Let\\'s get all the values we just inserted', tree.get('a'), tree.get('b'), tree.get('c'))"
   ]
  },
  {
   "cell_type": "markdown",
   "metadata": {},
   "source": [
    "### Making the Tree more Pythonic\n",
    "It would be nice to have the tree implement some common syntactic sugar that Python enables, for example:\n",
    "```python\n",
    ">>> tree['Where will ASG be?'] = 'Who knows'\n",
    ">>> tree.get('Where will ASG be?')\n",
    "'Who knows'\n",
    "...\n",
    ">>> tree['Where will ASG be?'] = 'Stop asking'\n",
    ">>> tree['Where will ASG be?']\n",
    "'Stop asking'\n",
    "```\n",
    "Does anyone know what we need to implement to do this? The `__setitem__` and `__getitem__` functions of course!"
   ]
  },
  {
   "cell_type": "code",
   "execution_count": 17,
   "metadata": {},
   "outputs": [],
   "source": [
    "class BinarySearchTree(object):\n",
    "    \"\"\" Store values within a binary tree structure for later lookup. \"\"\"\n",
    "    def __init__(self):\n",
    "        self.root = None\n",
    "        self._size = 0  # Do not want to directly modify this\n",
    "\n",
    "    @property\n",
    "    def length(self):\n",
    "        return self._size\n",
    "\n",
    "    def __getitem__(self, key):\n",
    "        # How do we get an item given a key?\n",
    "        return self.get(key)\n",
    "    \n",
    "    def __setitem__(self, key, value):\n",
    "        # How do we insert a key and value?\n",
    "        self.insert(key, value)\n",
    "    \n",
    "    def __len__(self):\n",
    "        return self._size\n",
    "    \n",
    "    def insert(self, key, value):\n",
    "        if self.root is None:\n",
    "            # Create a root\n",
    "            self.root = Node(key, value)\n",
    "            \n",
    "        else:\n",
    "            # Need to recursively call an insert function here\n",
    "            self._insert(key, value, current_node=self.root)\n",
    "        self._size += 1\n",
    "        \n",
    "    def _insert(self, key, value, current_node):\n",
    "        if key < current_node.key:\n",
    "            # Key is less than the current nodes key, it should go left\n",
    "            if not current_node.has_left_child():\n",
    "                current_node.left_child = Node(key, value, parent=current_node)\n",
    "            else:\n",
    "                self._insert(key, value, current_node=current_node.left_child)\n",
    "        else:\n",
    "            # Key is greater than the current_nodes key\n",
    "            if not current_node.has_right_child():\n",
    "                current_node.right_child = Node(key, value, parent=current_node)\n",
    "            else:\n",
    "                self._insert(key, value, current_node=current_node.right_child)\n",
    "\n",
    "    def get(self, key):\n",
    "        \"\"\" Take a key and find it in our tree. \"\"\"\n",
    "        if self.root is None:\n",
    "            return None\n",
    "        else:\n",
    "            result =  self._get(key, current_node=self.root)\n",
    "            if result is None:\n",
    "                return None\n",
    "            else:\n",
    "                return result.value\n",
    "            \n",
    "    def _get(self, key, current_node):\n",
    "        # What do we do if current node is None? What does that mean?\n",
    "        if current_node is None:\n",
    "            return None\n",
    "        elif current_node.key == key:\n",
    "            # We found it!\n",
    "            return current_node\n",
    "\n",
    "        elif key < current_node.key:\n",
    "            return self._get(key, current_node=current_node.left_child)\n",
    "        else:\n",
    "            return self._get(key, current_node=current_node.right_child)"
   ]
  },
  {
   "cell_type": "code",
   "execution_count": 18,
   "metadata": {},
   "outputs": [],
   "source": [
    "tree = BinarySearchTree()"
   ]
  },
  {
   "cell_type": "code",
   "execution_count": 19,
   "metadata": {},
   "outputs": [],
   "source": [
    "tree['Are BSTs great?'] = 'No'"
   ]
  },
  {
   "cell_type": "code",
   "execution_count": 20,
   "metadata": {},
   "outputs": [],
   "source": [
    "tree['Are these jokes good?'] = tree['Are BSTs great?']"
   ]
  },
  {
   "cell_type": "code",
   "execution_count": 21,
   "metadata": {},
   "outputs": [
    {
     "name": "stdout",
     "output_type": "stream",
     "text": [
      "No\n",
      "No\n"
     ]
    }
   ],
   "source": [
    "print(tree['Are BSTs great?'])\n",
    "print(tree['Are these jokes good?'])"
   ]
  },
  {
   "cell_type": "markdown",
   "metadata": {},
   "source": [
    "### Removing Items\n",
    "\n",
    "Now that we can insert and find items it's time to remove them. This can be a **major** pain to code and I wouldn't expect that you'll be asked to write out the entirety of this algorithm. They're somewhat hard to follow so we will only handle two simple cases. As I'm sure you all know, when removing a node from a tree there are three cases:\n",
    "1. The node has no children (simple)\n",
    "2. The node has one child (not too bad)\n",
    "3. The node has two children (not good stay away from this one). Go [here](http://interactivepython.org/runestone/static/pythonds/Trees/SearchTreeImplementation.html) for an explanation.\n",
    "\n",
    "We'll look at implementing the first two (hopefully). To deal with the third I've implemented a better `Node` class in `tree.py`. Let's use that one from now on."
   ]
  },
  {
   "cell_type": "code",
   "execution_count": 22,
   "metadata": {},
   "outputs": [],
   "source": [
    "from tree import Node\n",
    "\n",
    "class BinarySearchTree(object):\n",
    "    \"\"\" Store values within a binary tree structure for later lookup. \"\"\"\n",
    "    def __init__(self):\n",
    "        self.root = None\n",
    "        self._size = 0  # Do not want to directly modify this\n",
    "\n",
    "    @property\n",
    "    def length(self):\n",
    "        return self._size\n",
    "\n",
    "    def __str__(self):\n",
    "        \"\"\" This will let us print the tree. \"\"\"\n",
    "        return self.root.__str__()\n",
    "    \n",
    "    def __iter__(self):\n",
    "        \"\"\" This will let us print the tree. \"\"\"\n",
    "        return self.root.__iter__()\n",
    "\n",
    "    def __getitem__(self, key):\n",
    "        return self.get(key)\n",
    "\n",
    "    def __setitem__(self, key, value):\n",
    "        return self.insert(key, value)\n",
    "    \n",
    "    def __len__(self):\n",
    "        return self._size\n",
    "    \n",
    "    def insert(self, key, value):\n",
    "        if self.root is None:\n",
    "            # Create a root\n",
    "            self.root = Node(key, value)\n",
    "        else:\n",
    "            # Need to recursively call an insert function here\n",
    "            self._insert(key, value, current_node=self.root)\n",
    "        self._size += 1\n",
    "        \n",
    "    def _insert(self, key, value, current_node):\n",
    "        if key < current_node.key:\n",
    "            # Key is less than the current nodes key, it should go left\n",
    "            if not current_node.has_left_child():\n",
    "                current_node.left_child = Node(key, value, parent=current_node)\n",
    "            else:\n",
    "                self._insert(key, value, current_node=current_node.left_child)\n",
    "        else:\n",
    "            # Key is greater than the current_nodes key\n",
    "            if not current_node.has_right_child():\n",
    "                current_node.right_child = Node(key, value, parent=current_node)\n",
    "            else:\n",
    "                self._insert(key, value, current_node=current_node.right_child)\n",
    "\n",
    "    def get(self, key, *, print_progress=False):\n",
    "        \"\"\" Take a key and find it in our tree. \"\"\"\n",
    "        if print_progress:\n",
    "            print(f'Beginning search for {key}')\n",
    "        if self.root is None:\n",
    "            return None\n",
    "        else:\n",
    "            result =  self._get(key, current_node=self.root, print_progress=print_progress)\n",
    "            if result is None:\n",
    "                return None\n",
    "            else:\n",
    "                return result.value\n",
    "            \n",
    "    def _get(self, key, current_node, *, print_progress=False):\n",
    "        # What do we do if current node is None? What does that mean?\n",
    "        if print_progress:\n",
    "            print(f'At Node with key {current_node.key} and value {current_node.value}')\n",
    "        if current_node is None:\n",
    "            return None\n",
    "        elif current_node.key == key:\n",
    "            # We found it!\n",
    "            return current_node\n",
    "\n",
    "        elif key < current_node.key:\n",
    "            return self._get(key, current_node=current_node.left_child, print_progress=print_progress)\n",
    "        else:\n",
    "            return self._get(key, current_node=current_node.right_child, print_progress=print_progress)\n",
    "                \n",
    "    def delete(self, key):\n",
    "        if self.length > 1:\n",
    "            to_remove = self._get(key, self.root)  # First find the node we want to remove\n",
    "            if to_remove is None:\n",
    "                raise KeyError(f'Key {key} is not in the tree.')\n",
    "            else:\n",
    "                self.remove(to_remove)\n",
    "                self._size -= 1\n",
    "        else:\n",
    "            # What do we do when size == 1 or == 0?\n",
    "            pass\n",
    "            \n",
    "    def remove(self, node):\n",
    "        # Handle our three cases\n",
    "        if node.is_leaf():\n",
    "            # No children! What do we do?\n",
    "            parent = node.parent\n",
    "            if parent.left_child == node:\n",
    "                parent.left_child = None\n",
    "            else:\n",
    "                parent.right_child = None\n",
    "\n",
    "        elif node.has_both_children():\n",
    "            # This node has two children\n",
    "            succ = node.find_successor()\n",
    "            succ.splice_out()\n",
    "            node.key = succ.key\n",
    "            node.value = succ.value\n",
    "        else:\n",
    "            # Has one child, what do we do?\n",
    "            # First check if we're the root\n",
    "            if node.parent is None:\n",
    "                # Current node has no parent, it's the root\n",
    "                # Replace it with the child that exists\n",
    "                child = None\n",
    "                if node.has_right_child():\n",
    "                    child = node.right_child\n",
    "                else:\n",
    "                    child = node.left_child\n",
    "                    \n",
    "                node.replace_data(\n",
    "                    child.key,\n",
    "                    child.value,\n",
    "                    left=child.left,\n",
    "                    right=child.right\n",
    "                )\n",
    "\n",
    "            # But what now?\n",
    "            parent = node.parent\n",
    "            if node.has_left_child():\n",
    "                if node.is_left_child():\n",
    "                    parent.left_child = node.left_child\n",
    "                else:\n",
    "                    parent.right_child = node.left_child\n",
    "            else:\n",
    "                if node.is_left_child():\n",
    "                    parent.left_child = node.right_child\n",
    "                else:\n",
    "                    parent.right_child = node.right_child"
   ]
  },
  {
   "cell_type": "markdown",
   "metadata": {},
   "source": [
    "### Hurray you now have a BST!!!"
   ]
  },
  {
   "cell_type": "code",
   "execution_count": 23,
   "metadata": {},
   "outputs": [],
   "source": [
    "import numpy as np\n",
    "\n",
    "end = 10\n",
    "modifier = 4\n",
    "\n",
    "keys = [i - (end // modifier) for i in range(end)]\n",
    "np.random.shuffle(keys)\n",
    "vals = keys"
   ]
  },
  {
   "cell_type": "code",
   "execution_count": 24,
   "metadata": {},
   "outputs": [],
   "source": [
    "tree = BinarySearchTree()\n",
    "\n",
    "for k, v in zip(keys, vals):\n",
    "    tree.insert(k, v) # Could also do tree[k] = v"
   ]
  },
  {
   "cell_type": "code",
   "execution_count": 25,
   "metadata": {},
   "outputs": [
    {
     "name": "stdout",
     "output_type": "stream",
     "text": [
      "\n",
      "\t\t7\n",
      "\t6\n",
      "\t\t\t5\n",
      "\t\t\t\t\t4\n",
      "\t\t\t\t3\n",
      "\t\t2\n",
      "\t\t\t1\n",
      "0\n",
      "\t-1\n",
      "\t\t-2\n"
     ]
    }
   ],
   "source": [
    "print(tree)"
   ]
  },
  {
   "cell_type": "code",
   "execution_count": 26,
   "metadata": {},
   "outputs": [],
   "source": [
    "def print_subtree(tree, key):\n",
    "    node = tree._get(key, tree.root)\n",
    "    print(node)"
   ]
  },
  {
   "cell_type": "code",
   "execution_count": 27,
   "metadata": {},
   "outputs": [
    {
     "name": "stdout",
     "output_type": "stream",
     "text": [
      "\n",
      "-2\n"
     ]
    }
   ],
   "source": [
    "print_subtree(tree, -2)"
   ]
  },
  {
   "cell_type": "markdown",
   "metadata": {},
   "source": [
    "### But What are They Used For?\n",
    "\n",
    "Binary Trees are everywhere, if you take SYDE 522: Machine Intelligence you'll see them show up as `Decision Trees`. A `Decision Tree` is typically used to perform classification on a given dataset. Nodes are used to answer a True/False question about the given data. For example, if I have an array that has recorded the class attendance (as a percentage), midterm score, and percentage of week spent consuming alcohol for a few SYDE 462 students like so: "
   ]
  },
  {
   "cell_type": "code",
   "execution_count": 28,
   "metadata": {},
   "outputs": [],
   "source": [
    "feature_names = ['Attendance', 'Midterm Score', 'Perc. Week Drinking']\n",
    "X = np.array([\n",
    "    [1.0, 1.0, 0.0],\n",
    "    [0.6, 0.8, 0.4],\n",
    "    [0.1, 0.5, 0.6],\n",
    "    [0.01, 0.2, 0.8],\n",
    "    [0.7, 0.8, 0.2],\n",
    "    [0.8, 0.4, 0.1],\n",
    "    [0.2, 0.9, 0.8],\n",
    "    [0.7, 0.7, 0.2],\n",
    "    [0.7, 0.2, 0.8],\n",
    "])"
   ]
  },
  {
   "cell_type": "markdown",
   "metadata": {},
   "source": [
    "Let's also say we know if someone passed, if they did they we'll record it as a `1` and `0` if they failed."
   ]
  },
  {
   "cell_type": "code",
   "execution_count": 29,
   "metadata": {},
   "outputs": [],
   "source": [
    "passed = np.array([\n",
    "    1,\n",
    "    1,\n",
    "    0,\n",
    "    0,\n",
    "    1,\n",
    "    1,\n",
    "    1,\n",
    "    0,\n",
    "    1,\n",
    "])\n",
    "target_names = ['Fail', 'Pass']"
   ]
  },
  {
   "cell_type": "markdown",
   "metadata": {},
   "source": [
    "If we want to predict whether a student will pass given their attendance, midterm score, and percentage of week spent drinking, how would we do it? We could manually look at the data or we could employ a `DecisionTree`. Luckily, some Python programmers have already done this for us, we can import and fit a decision tree like so:"
   ]
  },
  {
   "cell_type": "code",
   "execution_count": 30,
   "metadata": {},
   "outputs": [],
   "source": [
    "from sklearn.tree import DecisionTreeClassifier\n",
    "\n",
    "clf = DecisionTreeClassifier()\n",
    "clf = clf.fit(X, passed)"
   ]
  },
  {
   "cell_type": "markdown",
   "metadata": {},
   "source": [
    "Now, if I were to enter my own data, I could see whether or not I'll pass!"
   ]
  },
  {
   "cell_type": "code",
   "execution_count": 31,
   "metadata": {},
   "outputs": [
    {
     "name": "stdout",
     "output_type": "stream",
     "text": [
      "Will I pass? True\n"
     ]
    }
   ],
   "source": [
    "print('Will I pass?', clf.predict([[0.6, 0.5, 0.8]])[0] == 1)"
   ]
  },
  {
   "cell_type": "markdown",
   "metadata": {},
   "source": [
    "We can also visualize what the tree has learned to better understand why it says I'll be failing this course:"
   ]
  },
  {
   "cell_type": "code",
   "execution_count": 32,
   "metadata": {},
   "outputs": [],
   "source": [
    "from sklearn import tree\n",
    "import graphviz\n",
    "\n",
    "dot_data = tree.export_graphviz(\n",
    "    clf, \n",
    "    out_file=None, \n",
    "    feature_names=feature_names, \n",
    "    class_names=target_names, \n",
    "    filled=True, \n",
    "    rounded=True, \n",
    "    special_characters=True\n",
    ")  \n",
    "# I can't export a PDF with this figure :( \n",
    "# Go to this link to see something similar \n",
    "# http://scikit-learn.org/stable/modules/tree.html\n",
    "# graph = graphviz.Source(dot_data)  \n",
    "# graph"
   ]
  },
  {
   "cell_type": "markdown",
   "metadata": {},
   "source": [
    "## End of Tutorial 'Quiz'\n",
    "It's [here](https://create.kahoot.it/)."
   ]
  }
 ],
 "metadata": {
  "kernelspec": {
   "display_name": "Python 3",
   "language": "python",
   "name": "python3"
  },
  "language_info": {
   "codemirror_mode": {
    "name": "ipython",
    "version": 3
   },
   "file_extension": ".py",
   "mimetype": "text/x-python",
   "name": "python",
   "nbconvert_exporter": "python",
   "pygments_lexer": "ipython3",
   "version": "3.6.4"
  }
 },
 "nbformat": 4,
 "nbformat_minor": 2
}
